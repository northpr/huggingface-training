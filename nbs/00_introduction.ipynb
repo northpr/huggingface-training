{
 "cells": [
  {
   "cell_type": "code",
   "execution_count": 1,
   "id": "11876584-9a7f-4a2c-b692-744eafc1a8f9",
   "metadata": {
    "execution": {
     "iopub.execute_input": "2023-02-04T07:30:50.665171Z",
     "iopub.status.busy": "2023-02-04T07:30:50.664324Z",
     "iopub.status.idle": "2023-02-04T07:30:55.056078Z",
     "shell.execute_reply": "2023-02-04T07:30:55.055342Z",
     "shell.execute_reply.started": "2023-02-04T07:30:50.665081Z"
    }
   },
   "outputs": [],
   "source": [
    "from transformers import pipeline"
   ]
  },
  {
   "cell_type": "markdown",
   "id": "aba377b8-5ca1-4e64-a119-0142892f13a9",
   "metadata": {},
   "source": [
    "# Pipeline: pipeline()"
   ]
  },
  {
   "cell_type": "markdown",
   "id": "5587d5c1-b5bd-4b1d-a29b-101d863a9c76",
   "metadata": {},
   "source": [
    "## Pipeline - Sentiment Analysis"
   ]
  },
  {
   "cell_type": "code",
   "execution_count": 2,
   "id": "f8c84036-cdc1-4d31-8097-65368c14477f",
   "metadata": {
    "execution": {
     "iopub.execute_input": "2023-02-04T07:31:04.563481Z",
     "iopub.status.busy": "2023-02-04T07:31:04.562619Z",
     "iopub.status.idle": "2023-02-04T07:31:12.997001Z",
     "shell.execute_reply": "2023-02-04T07:31:12.996024Z",
     "shell.execute_reply.started": "2023-02-04T07:31:04.563450Z"
    }
   },
   "outputs": [
    {
     "name": "stderr",
     "output_type": "stream",
     "text": [
      "No model was supplied, defaulted to distilbert-base-uncased-finetuned-sst-2-english and revision af0f99b (https://huggingface.co/distilbert-base-uncased-finetuned-sst-2-english).\n",
      "Using a pipeline without specifying a model name and revision in production is not recommended.\n"
     ]
    },
    {
     "data": {
      "application/vnd.jupyter.widget-view+json": {
       "model_id": "a5c7f857752c4dc3a6be288c00831eda",
       "version_major": 2,
       "version_minor": 0
      },
      "text/plain": [
       "Downloading (…)lve/main/config.json:   0%|          | 0.00/629 [00:00<?, ?B/s]"
      ]
     },
     "metadata": {},
     "output_type": "display_data"
    },
    {
     "data": {
      "application/vnd.jupyter.widget-view+json": {
       "model_id": "724b802821c842eb82d9e5e2088135ac",
       "version_major": 2,
       "version_minor": 0
      },
      "text/plain": [
       "Downloading (…)\"pytorch_model.bin\";:   0%|          | 0.00/268M [00:00<?, ?B/s]"
      ]
     },
     "metadata": {},
     "output_type": "display_data"
    },
    {
     "data": {
      "application/vnd.jupyter.widget-view+json": {
       "model_id": "9abf8e0f328a44d8a24e2aa1a67b936e",
       "version_major": 2,
       "version_minor": 0
      },
      "text/plain": [
       "Downloading (…)okenizer_config.json:   0%|          | 0.00/48.0 [00:00<?, ?B/s]"
      ]
     },
     "metadata": {},
     "output_type": "display_data"
    },
    {
     "data": {
      "application/vnd.jupyter.widget-view+json": {
       "model_id": "3982fff6129e4c4fb4f1aa175b205165",
       "version_major": 2,
       "version_minor": 0
      },
      "text/plain": [
       "Downloading (…)solve/main/vocab.txt:   0%|          | 0.00/232k [00:00<?, ?B/s]"
      ]
     },
     "metadata": {},
     "output_type": "display_data"
    },
    {
     "data": {
      "text/plain": [
       "[{'label': 'POSITIVE', 'score': 0.9598050713539124}]"
      ]
     },
     "execution_count": 2,
     "metadata": {},
     "output_type": "execute_result"
    }
   ],
   "source": [
    "classifier = pipeline(\"sentiment-analysis\")\n",
    "classifier(\"I've been waiting for a HuggingFace course my whole life.\")"
   ]
  },
  {
   "cell_type": "code",
   "execution_count": 3,
   "id": "befd89d0-03b8-437b-9d1a-dde525ba3d74",
   "metadata": {
    "execution": {
     "iopub.execute_input": "2023-02-04T07:32:00.952510Z",
     "iopub.status.busy": "2023-02-04T07:32:00.952160Z",
     "iopub.status.idle": "2023-02-04T07:32:00.993899Z",
     "shell.execute_reply": "2023-02-04T07:32:00.993095Z",
     "shell.execute_reply.started": "2023-02-04T07:32:00.952486Z"
    }
   },
   "outputs": [
    {
     "data": {
      "text/plain": [
       "[{'label': 'POSITIVE', 'score': 0.9477730989456177},\n",
       " {'label': 'NEGATIVE', 'score': 0.9994856119155884}]"
      ]
     },
     "execution_count": 3,
     "metadata": {},
     "output_type": "execute_result"
    }
   ],
   "source": [
    "classifier([\"I ve been waiting for a huggingface course my whole life\",\n",
    "           \"I hate this somuch\"])"
   ]
  },
  {
   "cell_type": "markdown",
   "id": "51f9f3c7-5c6f-44a6-8d09-1b8d6ef9412b",
   "metadata": {},
   "source": [
    "## Pipeline - Zero shot classification"
   ]
  },
  {
   "cell_type": "code",
   "execution_count": 5,
   "id": "bda1ec53-6a7f-4c60-8c38-574ddb2bf145",
   "metadata": {
    "execution": {
     "iopub.execute_input": "2023-02-04T07:35:00.427986Z",
     "iopub.status.busy": "2023-02-04T07:35:00.427578Z",
     "iopub.status.idle": "2023-02-04T07:35:24.585931Z",
     "shell.execute_reply": "2023-02-04T07:35:24.584946Z",
     "shell.execute_reply.started": "2023-02-04T07:35:00.427958Z"
    }
   },
   "outputs": [
    {
     "name": "stderr",
     "output_type": "stream",
     "text": [
      "No model was supplied, defaulted to facebook/bart-large-mnli (https://huggingface.co/facebook/bart-large-mnli)\n"
     ]
    },
    {
     "data": {
      "application/vnd.jupyter.widget-view+json": {
       "model_id": "205029145b5a4d95ba0cac11f181713e",
       "version_major": 2,
       "version_minor": 0
      },
      "text/plain": [
       "Downloading:   0%|          | 0.00/1.13k [00:00<?, ?B/s]"
      ]
     },
     "metadata": {},
     "output_type": "display_data"
    },
    {
     "data": {
      "application/vnd.jupyter.widget-view+json": {
       "model_id": "369346c934f94eeaaa00887a2d870454",
       "version_major": 2,
       "version_minor": 0
      },
      "text/plain": [
       "Downloading:   0%|          | 0.00/1.52G [00:00<?, ?B/s]"
      ]
     },
     "metadata": {},
     "output_type": "display_data"
    },
    {
     "data": {
      "application/vnd.jupyter.widget-view+json": {
       "model_id": "623e76e2fd784e3d9b682978b04c5d49",
       "version_major": 2,
       "version_minor": 0
      },
      "text/plain": [
       "Downloading:   0%|          | 0.00/26.0 [00:00<?, ?B/s]"
      ]
     },
     "metadata": {},
     "output_type": "display_data"
    },
    {
     "data": {
      "application/vnd.jupyter.widget-view+json": {
       "model_id": "2de13be9e7ab4313bdf2f0bec31b0e02",
       "version_major": 2,
       "version_minor": 0
      },
      "text/plain": [
       "Downloading:   0%|          | 0.00/878k [00:00<?, ?B/s]"
      ]
     },
     "metadata": {},
     "output_type": "display_data"
    },
    {
     "data": {
      "application/vnd.jupyter.widget-view+json": {
       "model_id": "6a937c9e7eee4d64a30a2f70d39ba5e2",
       "version_major": 2,
       "version_minor": 0
      },
      "text/plain": [
       "Downloading:   0%|          | 0.00/446k [00:00<?, ?B/s]"
      ]
     },
     "metadata": {},
     "output_type": "display_data"
    },
    {
     "data": {
      "application/vnd.jupyter.widget-view+json": {
       "model_id": "579491e9b90e46f0b58c299b72f3a7e3",
       "version_major": 2,
       "version_minor": 0
      },
      "text/plain": [
       "Downloading:   0%|          | 0.00/1.29M [00:00<?, ?B/s]"
      ]
     },
     "metadata": {},
     "output_type": "display_data"
    },
    {
     "data": {
      "text/plain": [
       "{'sequence': 'This is a course about the Transformer library',\n",
       " 'labels': ['education', 'business', 'politics'],\n",
       " 'scores': [0.9567622542381287, 0.03160880133509636, 0.011628990061581135]}"
      ]
     },
     "execution_count": 5,
     "metadata": {},
     "output_type": "execute_result"
    }
   ],
   "source": [
    "classifier = pipeline(\"zero-shot-classification\")\n",
    "classifier(\"This is a course about the Transformer library\",\n",
    "          candidate_labels=[\"education\", \"politics\", \"business\"])"
   ]
  },
  {
   "cell_type": "markdown",
   "id": "0ed80c10-7253-4e3c-9253-0a7a8f1cd0ff",
   "metadata": {},
   "source": [
    "## Pipeline - Text generation"
   ]
  },
  {
   "cell_type": "code",
   "execution_count": 6,
   "id": "c3645b0c-3903-4956-ab84-0daff87ce1fd",
   "metadata": {
    "execution": {
     "iopub.execute_input": "2023-02-04T07:36:06.456921Z",
     "iopub.status.busy": "2023-02-04T07:36:06.456083Z",
     "iopub.status.idle": "2023-02-04T07:36:30.114582Z",
     "shell.execute_reply": "2023-02-04T07:36:30.113960Z",
     "shell.execute_reply.started": "2023-02-04T07:36:06.456891Z"
    }
   },
   "outputs": [
    {
     "name": "stderr",
     "output_type": "stream",
     "text": [
      "No model was supplied, defaulted to gpt2 (https://huggingface.co/gpt2)\n"
     ]
    },
    {
     "data": {
      "application/vnd.jupyter.widget-view+json": {
       "model_id": "b453b78d611d402ab188cd8c7b290fb4",
       "version_major": 2,
       "version_minor": 0
      },
      "text/plain": [
       "Downloading:   0%|          | 0.00/665 [00:00<?, ?B/s]"
      ]
     },
     "metadata": {},
     "output_type": "display_data"
    },
    {
     "data": {
      "application/vnd.jupyter.widget-view+json": {
       "model_id": "18032043f68245b8a0790b5a9ff621cf",
       "version_major": 2,
       "version_minor": 0
      },
      "text/plain": [
       "Downloading:   0%|          | 0.00/523M [00:00<?, ?B/s]"
      ]
     },
     "metadata": {},
     "output_type": "display_data"
    },
    {
     "data": {
      "application/vnd.jupyter.widget-view+json": {
       "model_id": "eed666650d884538807580b2ef48650f",
       "version_major": 2,
       "version_minor": 0
      },
      "text/plain": [
       "Downloading:   0%|          | 0.00/0.99M [00:00<?, ?B/s]"
      ]
     },
     "metadata": {},
     "output_type": "display_data"
    },
    {
     "data": {
      "application/vnd.jupyter.widget-view+json": {
       "model_id": "0827c36a6e074438a4dad056ec343826",
       "version_major": 2,
       "version_minor": 0
      },
      "text/plain": [
       "Downloading:   0%|          | 0.00/446k [00:00<?, ?B/s]"
      ]
     },
     "metadata": {},
     "output_type": "display_data"
    },
    {
     "data": {
      "application/vnd.jupyter.widget-view+json": {
       "model_id": "eccc4ec759cb41dab27b7c33c96aecc1",
       "version_major": 2,
       "version_minor": 0
      },
      "text/plain": [
       "Downloading:   0%|          | 0.00/1.29M [00:00<?, ?B/s]"
      ]
     },
     "metadata": {},
     "output_type": "display_data"
    },
    {
     "name": "stderr",
     "output_type": "stream",
     "text": [
      "The attention mask and the pad token id were not set. As a consequence, you may observe unexpected behavior. Please pass your input's `attention_mask` to obtain reliable results.\n",
      "Setting `pad_token_id` to `eos_token_id`:50256 for open-end generation.\n"
     ]
    },
    {
     "data": {
      "text/plain": [
       "[{'generated_text': 'In this course, we will teach you how to create and control an image in your music and videos. Each of these exercises includes an interactive demo to show you how to create all of your images for your songs, commercials and commercials. Each lesson will'}]"
      ]
     },
     "execution_count": 6,
     "metadata": {},
     "output_type": "execute_result"
    }
   ],
   "source": [
    "generator = pipeline(\"text-generation\")\n",
    "generator(\"In this course, we will teach you how to\")"
   ]
  },
  {
   "cell_type": "code",
   "execution_count": 11,
   "id": "cb737fd3-a049-4eff-b0b6-b96668427696",
   "metadata": {
    "execution": {
     "iopub.execute_input": "2023-02-04T07:39:07.292790Z",
     "iopub.status.busy": "2023-02-04T07:39:07.292132Z",
     "iopub.status.idle": "2023-02-04T07:39:10.720878Z",
     "shell.execute_reply": "2023-02-04T07:39:10.720117Z",
     "shell.execute_reply.started": "2023-02-04T07:39:07.292762Z"
    }
   },
   "outputs": [
    {
     "name": "stderr",
     "output_type": "stream",
     "text": [
      "The attention mask and the pad token id were not set. As a consequence, you may observe unexpected behavior. Please pass your input's `attention_mask` to obtain reliable results.\n",
      "Setting `pad_token_id` to `eos_token_id`:50256 for open-end generation.\n"
     ]
    },
    {
     "data": {
      "text/plain": [
       "[{'generated_text': 'In this course, we will teach you how to work inside a computer.\\n\\n\\n\\nAs we have just added another topic, you can find'},\n",
       " {'generated_text': 'In this course, we will teach you how to use the Internet in your classroom in one or more classes. We also will create easy-to-'}]"
      ]
     },
     "execution_count": 11,
     "metadata": {},
     "output_type": "execute_result"
    }
   ],
   "source": [
    "generator_2 = pipeline(\"text-generation\", model=\"distilgpt2\")\n",
    "generator_2(\"In this course, we will teach you how to\",\n",
    "          max_length=30,\n",
    "          num_return_sequences=2)"
   ]
  },
  {
   "cell_type": "markdown",
   "id": "26011ce7-1bb6-46d0-b435-4d27221a7beb",
   "metadata": {},
   "source": [
    "## Pipeline - Fill mask"
   ]
  },
  {
   "cell_type": "code",
   "execution_count": 14,
   "id": "b55282bd-7565-4fe0-902c-65d2c9136630",
   "metadata": {
    "execution": {
     "iopub.execute_input": "2023-02-04T07:41:32.274631Z",
     "iopub.status.busy": "2023-02-04T07:41:32.273728Z",
     "iopub.status.idle": "2023-02-04T07:41:43.045796Z",
     "shell.execute_reply": "2023-02-04T07:41:43.044984Z",
     "shell.execute_reply.started": "2023-02-04T07:41:32.274602Z"
    }
   },
   "outputs": [
    {
     "name": "stderr",
     "output_type": "stream",
     "text": [
      "No model was supplied, defaulted to distilroberta-base (https://huggingface.co/distilroberta-base)\n"
     ]
    },
    {
     "data": {
      "application/vnd.jupyter.widget-view+json": {
       "model_id": "7ed43df8a3da45aeb54b69e14a79eb43",
       "version_major": 2,
       "version_minor": 0
      },
      "text/plain": [
       "Downloading:   0%|          | 0.00/480 [00:00<?, ?B/s]"
      ]
     },
     "metadata": {},
     "output_type": "display_data"
    },
    {
     "data": {
      "application/vnd.jupyter.widget-view+json": {
       "model_id": "778d84b2d9f54d418fccb600b6ef2498",
       "version_major": 2,
       "version_minor": 0
      },
      "text/plain": [
       "Downloading:   0%|          | 0.00/316M [00:00<?, ?B/s]"
      ]
     },
     "metadata": {},
     "output_type": "display_data"
    },
    {
     "data": {
      "application/vnd.jupyter.widget-view+json": {
       "model_id": "2b3b8ada5e4143b597356b430321e781",
       "version_major": 2,
       "version_minor": 0
      },
      "text/plain": [
       "Downloading:   0%|          | 0.00/878k [00:00<?, ?B/s]"
      ]
     },
     "metadata": {},
     "output_type": "display_data"
    },
    {
     "data": {
      "application/vnd.jupyter.widget-view+json": {
       "model_id": "3d33409a184a4593b89c7eea5dc2b429",
       "version_major": 2,
       "version_minor": 0
      },
      "text/plain": [
       "Downloading:   0%|          | 0.00/446k [00:00<?, ?B/s]"
      ]
     },
     "metadata": {},
     "output_type": "display_data"
    },
    {
     "data": {
      "application/vnd.jupyter.widget-view+json": {
       "model_id": "8779d4354bfc4ee68824cc84a11774b1",
       "version_major": 2,
       "version_minor": 0
      },
      "text/plain": [
       "Downloading:   0%|          | 0.00/1.29M [00:00<?, ?B/s]"
      ]
     },
     "metadata": {},
     "output_type": "display_data"
    },
    {
     "data": {
      "text/plain": [
       "[{'score': 0.19631537795066833,\n",
       "  'token': 30412,\n",
       "  'token_str': ' mathematical',\n",
       "  'sequence': 'This course will teach you all about mathematical models'},\n",
       " {'score': 0.04449216648936272,\n",
       "  'token': 745,\n",
       "  'token_str': ' building',\n",
       "  'sequence': 'This course will teach you all about building models'}]"
      ]
     },
     "execution_count": 14,
     "metadata": {},
     "output_type": "execute_result"
    }
   ],
   "source": [
    "unmasker = pipeline(\"fill-mask\")\n",
    "unmasker(\"This course will teach you all about <mask> models\", top_k=2)"
   ]
  },
  {
   "cell_type": "markdown",
   "id": "fc9a7dee-ab6a-4329-ae42-fccbb3a38cf2",
   "metadata": {},
   "source": [
    "## Pipeline - Ner (Classify sentence to type of word)"
   ]
  },
  {
   "cell_type": "code",
   "execution_count": 16,
   "id": "6f61ffbd-abc5-4037-8a87-968122f20f43",
   "metadata": {
    "execution": {
     "iopub.execute_input": "2023-02-04T07:47:23.841309Z",
     "iopub.status.busy": "2023-02-04T07:47:23.840602Z",
     "iopub.status.idle": "2023-02-04T07:47:28.287352Z",
     "shell.execute_reply": "2023-02-04T07:47:28.286512Z",
     "shell.execute_reply.started": "2023-02-04T07:47:23.841282Z"
    }
   },
   "outputs": [
    {
     "name": "stderr",
     "output_type": "stream",
     "text": [
      "No model was supplied, defaulted to dbmdz/bert-large-cased-finetuned-conll03-english (https://huggingface.co/dbmdz/bert-large-cased-finetuned-conll03-english)\n",
      "/usr/local/lib/python3.9/dist-packages/transformers/pipelines/token_classification.py:135: UserWarning: `grouped_entities` is deprecated and will be removed in version v5.0.0, defaulted to `aggregation_strategy=\"AggregationStrategy.SIMPLE\"` instead.\n",
      "  warnings.warn(\n"
     ]
    },
    {
     "data": {
      "text/plain": [
       "[{'entity_group': 'PER',\n",
       "  'score': 0.9986171,\n",
       "  'word': 'Sylvain',\n",
       "  'start': 11,\n",
       "  'end': 18},\n",
       " {'entity_group': 'ORG',\n",
       "  'score': 0.97779936,\n",
       "  'word': 'Hugging Face',\n",
       "  'start': 33,\n",
       "  'end': 45},\n",
       " {'entity_group': 'LOC',\n",
       "  'score': 0.9889684,\n",
       "  'word': 'Brooklyn',\n",
       "  'start': 49,\n",
       "  'end': 57}]"
      ]
     },
     "execution_count": 16,
     "metadata": {},
     "output_type": "execute_result"
    }
   ],
   "source": [
    "ner = pipeline(\"ner\", grouped_entities=True)\n",
    "ner(\"My name is Sylvain and I work at Hugging Face in Brooklyn\")"
   ]
  },
  {
   "cell_type": "code",
   "execution_count": null,
   "id": "8e576ac9-1d73-4c93-a041-75bf786d8515",
   "metadata": {},
   "outputs": [],
   "source": []
  }
 ],
 "metadata": {
  "kernelspec": {
   "display_name": "huggingface-training",
   "language": "python",
   "name": "python3"
  },
  "language_info": {
   "codemirror_mode": {
    "name": "ipython",
    "version": 3
   },
   "file_extension": ".py",
   "mimetype": "text/x-python",
   "name": "python",
   "nbconvert_exporter": "python",
   "pygments_lexer": "ipython3",
   "version": "3.10.9"
  },
  "vscode": {
   "interpreter": {
    "hash": "f9e6a7ee7f59f6d5c00e5591156f4e84dd928b9b62102b87f03c29ee30996116"
   }
  }
 },
 "nbformat": 4,
 "nbformat_minor": 5
}
